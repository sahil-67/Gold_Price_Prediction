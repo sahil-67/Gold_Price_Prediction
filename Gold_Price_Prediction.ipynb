{
 "cells": [
  {
   "cell_type": "code",
   "execution_count": 1,
   "id": "2a5ab251",
   "metadata": {},
   "outputs": [],
   "source": [
    "import pandas as pd\n",
    "import numpy as np\n",
    "import matplotlib.pyplot as plt\n",
    "import seaborn as sns\n",
    "from sklearn.model_selection import train_test_split\n",
    "from sklearn.ensemble import RandomForestRegressor\n",
    "from sklearn import metrics\n"
   ]
  },
  {
   "cell_type": "code",
   "execution_count": 2,
   "id": "25426aae",
   "metadata": {},
   "outputs": [],
   "source": [
    "#Load the csv file to a Pandas Dataframe\n",
    "gd = pd.read_csv('gld_price_data.csv')"
   ]
  },
  {
   "cell_type": "code",
   "execution_count": 3,
   "id": "34c3d30b",
   "metadata": {},
   "outputs": [
    {
     "data": {
      "text/html": [
       "<div>\n",
       "<style scoped>\n",
       "    .dataframe tbody tr th:only-of-type {\n",
       "        vertical-align: middle;\n",
       "    }\n",
       "\n",
       "    .dataframe tbody tr th {\n",
       "        vertical-align: top;\n",
       "    }\n",
       "\n",
       "    .dataframe thead th {\n",
       "        text-align: right;\n",
       "    }\n",
       "</style>\n",
       "<table border=\"1\" class=\"dataframe\">\n",
       "  <thead>\n",
       "    <tr style=\"text-align: right;\">\n",
       "      <th></th>\n",
       "      <th>Date</th>\n",
       "      <th>SPX</th>\n",
       "      <th>GLD</th>\n",
       "      <th>USO</th>\n",
       "      <th>SLV</th>\n",
       "      <th>EUR/USD</th>\n",
       "    </tr>\n",
       "  </thead>\n",
       "  <tbody>\n",
       "    <tr>\n",
       "      <th>0</th>\n",
       "      <td>1/2/2008</td>\n",
       "      <td>1447.160034</td>\n",
       "      <td>84.860001</td>\n",
       "      <td>78.470001</td>\n",
       "      <td>15.180</td>\n",
       "      <td>1.471692</td>\n",
       "    </tr>\n",
       "    <tr>\n",
       "      <th>1</th>\n",
       "      <td>1/3/2008</td>\n",
       "      <td>1447.160034</td>\n",
       "      <td>85.570000</td>\n",
       "      <td>78.370003</td>\n",
       "      <td>15.285</td>\n",
       "      <td>1.474491</td>\n",
       "    </tr>\n",
       "    <tr>\n",
       "      <th>2</th>\n",
       "      <td>1/4/2008</td>\n",
       "      <td>1411.630005</td>\n",
       "      <td>85.129997</td>\n",
       "      <td>77.309998</td>\n",
       "      <td>15.167</td>\n",
       "      <td>1.475492</td>\n",
       "    </tr>\n",
       "    <tr>\n",
       "      <th>3</th>\n",
       "      <td>1/7/2008</td>\n",
       "      <td>1416.180054</td>\n",
       "      <td>84.769997</td>\n",
       "      <td>75.500000</td>\n",
       "      <td>15.053</td>\n",
       "      <td>1.468299</td>\n",
       "    </tr>\n",
       "    <tr>\n",
       "      <th>4</th>\n",
       "      <td>1/8/2008</td>\n",
       "      <td>1390.189941</td>\n",
       "      <td>86.779999</td>\n",
       "      <td>76.059998</td>\n",
       "      <td>15.590</td>\n",
       "      <td>1.557099</td>\n",
       "    </tr>\n",
       "  </tbody>\n",
       "</table>\n",
       "</div>"
      ],
      "text/plain": [
       "       Date          SPX        GLD        USO     SLV   EUR/USD\n",
       "0  1/2/2008  1447.160034  84.860001  78.470001  15.180  1.471692\n",
       "1  1/3/2008  1447.160034  85.570000  78.370003  15.285  1.474491\n",
       "2  1/4/2008  1411.630005  85.129997  77.309998  15.167  1.475492\n",
       "3  1/7/2008  1416.180054  84.769997  75.500000  15.053  1.468299\n",
       "4  1/8/2008  1390.189941  86.779999  76.059998  15.590  1.557099"
      ]
     },
     "execution_count": 3,
     "metadata": {},
     "output_type": "execute_result"
    }
   ],
   "source": [
    "gd.head()"
   ]
  },
  {
   "cell_type": "code",
   "execution_count": 4,
   "id": "435771bf",
   "metadata": {},
   "outputs": [
    {
     "data": {
      "text/html": [
       "<div>\n",
       "<style scoped>\n",
       "    .dataframe tbody tr th:only-of-type {\n",
       "        vertical-align: middle;\n",
       "    }\n",
       "\n",
       "    .dataframe tbody tr th {\n",
       "        vertical-align: top;\n",
       "    }\n",
       "\n",
       "    .dataframe thead th {\n",
       "        text-align: right;\n",
       "    }\n",
       "</style>\n",
       "<table border=\"1\" class=\"dataframe\">\n",
       "  <thead>\n",
       "    <tr style=\"text-align: right;\">\n",
       "      <th></th>\n",
       "      <th>Date</th>\n",
       "      <th>SPX</th>\n",
       "      <th>GLD</th>\n",
       "      <th>USO</th>\n",
       "      <th>SLV</th>\n",
       "      <th>EUR/USD</th>\n",
       "    </tr>\n",
       "  </thead>\n",
       "  <tbody>\n",
       "    <tr>\n",
       "      <th>2285</th>\n",
       "      <td>5/8/2018</td>\n",
       "      <td>2671.919922</td>\n",
       "      <td>124.589996</td>\n",
       "      <td>14.0600</td>\n",
       "      <td>15.5100</td>\n",
       "      <td>1.186789</td>\n",
       "    </tr>\n",
       "    <tr>\n",
       "      <th>2286</th>\n",
       "      <td>5/9/2018</td>\n",
       "      <td>2697.790039</td>\n",
       "      <td>124.330002</td>\n",
       "      <td>14.3700</td>\n",
       "      <td>15.5300</td>\n",
       "      <td>1.184722</td>\n",
       "    </tr>\n",
       "    <tr>\n",
       "      <th>2287</th>\n",
       "      <td>5/10/2018</td>\n",
       "      <td>2723.070068</td>\n",
       "      <td>125.180000</td>\n",
       "      <td>14.4100</td>\n",
       "      <td>15.7400</td>\n",
       "      <td>1.191753</td>\n",
       "    </tr>\n",
       "    <tr>\n",
       "      <th>2288</th>\n",
       "      <td>5/14/2018</td>\n",
       "      <td>2730.129883</td>\n",
       "      <td>124.489998</td>\n",
       "      <td>14.3800</td>\n",
       "      <td>15.5600</td>\n",
       "      <td>1.193118</td>\n",
       "    </tr>\n",
       "    <tr>\n",
       "      <th>2289</th>\n",
       "      <td>5/16/2018</td>\n",
       "      <td>2725.780029</td>\n",
       "      <td>122.543800</td>\n",
       "      <td>14.4058</td>\n",
       "      <td>15.4542</td>\n",
       "      <td>1.182033</td>\n",
       "    </tr>\n",
       "  </tbody>\n",
       "</table>\n",
       "</div>"
      ],
      "text/plain": [
       "           Date          SPX         GLD      USO      SLV   EUR/USD\n",
       "2285   5/8/2018  2671.919922  124.589996  14.0600  15.5100  1.186789\n",
       "2286   5/9/2018  2697.790039  124.330002  14.3700  15.5300  1.184722\n",
       "2287  5/10/2018  2723.070068  125.180000  14.4100  15.7400  1.191753\n",
       "2288  5/14/2018  2730.129883  124.489998  14.3800  15.5600  1.193118\n",
       "2289  5/16/2018  2725.780029  122.543800  14.4058  15.4542  1.182033"
      ]
     },
     "execution_count": 4,
     "metadata": {},
     "output_type": "execute_result"
    }
   ],
   "source": [
    "gd.tail()"
   ]
  },
  {
   "cell_type": "code",
   "execution_count": 6,
   "id": "d03ff846",
   "metadata": {},
   "outputs": [
    {
     "data": {
      "text/plain": [
       "(2290, 6)"
      ]
     },
     "execution_count": 6,
     "metadata": {},
     "output_type": "execute_result"
    }
   ],
   "source": [
    "gd.shape"
   ]
  },
  {
   "cell_type": "code",
   "execution_count": 7,
   "id": "0a7d448c",
   "metadata": {},
   "outputs": [
    {
     "name": "stdout",
     "output_type": "stream",
     "text": [
      "<class 'pandas.core.frame.DataFrame'>\n",
      "RangeIndex: 2290 entries, 0 to 2289\n",
      "Data columns (total 6 columns):\n",
      " #   Column   Non-Null Count  Dtype  \n",
      "---  ------   --------------  -----  \n",
      " 0   Date     2290 non-null   object \n",
      " 1   SPX      2290 non-null   float64\n",
      " 2   GLD      2290 non-null   float64\n",
      " 3   USO      2290 non-null   float64\n",
      " 4   SLV      2290 non-null   float64\n",
      " 5   EUR/USD  2290 non-null   float64\n",
      "dtypes: float64(5), object(1)\n",
      "memory usage: 107.5+ KB\n"
     ]
    }
   ],
   "source": [
    "gd.info()"
   ]
  },
  {
   "cell_type": "code",
   "execution_count": 8,
   "id": "7cb5aceb",
   "metadata": {},
   "outputs": [
    {
     "data": {
      "text/html": [
       "<div>\n",
       "<style scoped>\n",
       "    .dataframe tbody tr th:only-of-type {\n",
       "        vertical-align: middle;\n",
       "    }\n",
       "\n",
       "    .dataframe tbody tr th {\n",
       "        vertical-align: top;\n",
       "    }\n",
       "\n",
       "    .dataframe thead th {\n",
       "        text-align: right;\n",
       "    }\n",
       "</style>\n",
       "<table border=\"1\" class=\"dataframe\">\n",
       "  <thead>\n",
       "    <tr style=\"text-align: right;\">\n",
       "      <th></th>\n",
       "      <th>SPX</th>\n",
       "      <th>GLD</th>\n",
       "      <th>USO</th>\n",
       "      <th>SLV</th>\n",
       "      <th>EUR/USD</th>\n",
       "    </tr>\n",
       "  </thead>\n",
       "  <tbody>\n",
       "    <tr>\n",
       "      <th>count</th>\n",
       "      <td>2290.000000</td>\n",
       "      <td>2290.000000</td>\n",
       "      <td>2290.000000</td>\n",
       "      <td>2290.000000</td>\n",
       "      <td>2290.000000</td>\n",
       "    </tr>\n",
       "    <tr>\n",
       "      <th>mean</th>\n",
       "      <td>1654.315776</td>\n",
       "      <td>122.732875</td>\n",
       "      <td>31.842221</td>\n",
       "      <td>20.084997</td>\n",
       "      <td>1.283653</td>\n",
       "    </tr>\n",
       "    <tr>\n",
       "      <th>std</th>\n",
       "      <td>519.111540</td>\n",
       "      <td>23.283346</td>\n",
       "      <td>19.523517</td>\n",
       "      <td>7.092566</td>\n",
       "      <td>0.131547</td>\n",
       "    </tr>\n",
       "    <tr>\n",
       "      <th>min</th>\n",
       "      <td>676.530029</td>\n",
       "      <td>70.000000</td>\n",
       "      <td>7.960000</td>\n",
       "      <td>8.850000</td>\n",
       "      <td>1.039047</td>\n",
       "    </tr>\n",
       "    <tr>\n",
       "      <th>25%</th>\n",
       "      <td>1239.874969</td>\n",
       "      <td>109.725000</td>\n",
       "      <td>14.380000</td>\n",
       "      <td>15.570000</td>\n",
       "      <td>1.171313</td>\n",
       "    </tr>\n",
       "    <tr>\n",
       "      <th>50%</th>\n",
       "      <td>1551.434998</td>\n",
       "      <td>120.580002</td>\n",
       "      <td>33.869999</td>\n",
       "      <td>17.268500</td>\n",
       "      <td>1.303297</td>\n",
       "    </tr>\n",
       "    <tr>\n",
       "      <th>75%</th>\n",
       "      <td>2073.010070</td>\n",
       "      <td>132.840004</td>\n",
       "      <td>37.827501</td>\n",
       "      <td>22.882500</td>\n",
       "      <td>1.369971</td>\n",
       "    </tr>\n",
       "    <tr>\n",
       "      <th>max</th>\n",
       "      <td>2872.870117</td>\n",
       "      <td>184.589996</td>\n",
       "      <td>117.480003</td>\n",
       "      <td>47.259998</td>\n",
       "      <td>1.598798</td>\n",
       "    </tr>\n",
       "  </tbody>\n",
       "</table>\n",
       "</div>"
      ],
      "text/plain": [
       "               SPX          GLD          USO          SLV      EUR/USD\n",
       "count  2290.000000  2290.000000  2290.000000  2290.000000  2290.000000\n",
       "mean   1654.315776   122.732875    31.842221    20.084997     1.283653\n",
       "std     519.111540    23.283346    19.523517     7.092566     0.131547\n",
       "min     676.530029    70.000000     7.960000     8.850000     1.039047\n",
       "25%    1239.874969   109.725000    14.380000    15.570000     1.171313\n",
       "50%    1551.434998   120.580002    33.869999    17.268500     1.303297\n",
       "75%    2073.010070   132.840004    37.827501    22.882500     1.369971\n",
       "max    2872.870117   184.589996   117.480003    47.259998     1.598798"
      ]
     },
     "execution_count": 8,
     "metadata": {},
     "output_type": "execute_result"
    }
   ],
   "source": [
    "gd.describe()"
   ]
  },
  {
   "cell_type": "code",
   "execution_count": 10,
   "id": "042fce39",
   "metadata": {},
   "outputs": [
    {
     "data": {
      "text/plain": [
       "Date       0\n",
       "SPX        0\n",
       "GLD        0\n",
       "USO        0\n",
       "SLV        0\n",
       "EUR/USD    0\n",
       "dtype: int64"
      ]
     },
     "execution_count": 10,
     "metadata": {},
     "output_type": "execute_result"
    }
   ],
   "source": [
    "#Checking no. of missing values\n",
    "gd.isnull().sum()"
   ]
  },
  {
   "cell_type": "code",
   "execution_count": 11,
   "id": "9a24b0c1",
   "metadata": {},
   "outputs": [],
   "source": [
    "#Correlation b/w various parameters\n",
    "corr = gd.corr()"
   ]
  },
  {
   "cell_type": "code",
   "execution_count": 12,
   "id": "4db90e18",
   "metadata": {},
   "outputs": [
    {
     "data": {
      "text/html": [
       "<div>\n",
       "<style scoped>\n",
       "    .dataframe tbody tr th:only-of-type {\n",
       "        vertical-align: middle;\n",
       "    }\n",
       "\n",
       "    .dataframe tbody tr th {\n",
       "        vertical-align: top;\n",
       "    }\n",
       "\n",
       "    .dataframe thead th {\n",
       "        text-align: right;\n",
       "    }\n",
       "</style>\n",
       "<table border=\"1\" class=\"dataframe\">\n",
       "  <thead>\n",
       "    <tr style=\"text-align: right;\">\n",
       "      <th></th>\n",
       "      <th>SPX</th>\n",
       "      <th>GLD</th>\n",
       "      <th>USO</th>\n",
       "      <th>SLV</th>\n",
       "      <th>EUR/USD</th>\n",
       "    </tr>\n",
       "  </thead>\n",
       "  <tbody>\n",
       "    <tr>\n",
       "      <th>SPX</th>\n",
       "      <td>1.000000</td>\n",
       "      <td>0.049345</td>\n",
       "      <td>-0.591573</td>\n",
       "      <td>-0.274055</td>\n",
       "      <td>-0.672017</td>\n",
       "    </tr>\n",
       "    <tr>\n",
       "      <th>GLD</th>\n",
       "      <td>0.049345</td>\n",
       "      <td>1.000000</td>\n",
       "      <td>-0.186360</td>\n",
       "      <td>0.866632</td>\n",
       "      <td>-0.024375</td>\n",
       "    </tr>\n",
       "    <tr>\n",
       "      <th>USO</th>\n",
       "      <td>-0.591573</td>\n",
       "      <td>-0.186360</td>\n",
       "      <td>1.000000</td>\n",
       "      <td>0.167547</td>\n",
       "      <td>0.829317</td>\n",
       "    </tr>\n",
       "    <tr>\n",
       "      <th>SLV</th>\n",
       "      <td>-0.274055</td>\n",
       "      <td>0.866632</td>\n",
       "      <td>0.167547</td>\n",
       "      <td>1.000000</td>\n",
       "      <td>0.321631</td>\n",
       "    </tr>\n",
       "    <tr>\n",
       "      <th>EUR/USD</th>\n",
       "      <td>-0.672017</td>\n",
       "      <td>-0.024375</td>\n",
       "      <td>0.829317</td>\n",
       "      <td>0.321631</td>\n",
       "      <td>1.000000</td>\n",
       "    </tr>\n",
       "  </tbody>\n",
       "</table>\n",
       "</div>"
      ],
      "text/plain": [
       "              SPX       GLD       USO       SLV   EUR/USD\n",
       "SPX      1.000000  0.049345 -0.591573 -0.274055 -0.672017\n",
       "GLD      0.049345  1.000000 -0.186360  0.866632 -0.024375\n",
       "USO     -0.591573 -0.186360  1.000000  0.167547  0.829317\n",
       "SLV     -0.274055  0.866632  0.167547  1.000000  0.321631\n",
       "EUR/USD -0.672017 -0.024375  0.829317  0.321631  1.000000"
      ]
     },
     "execution_count": 12,
     "metadata": {},
     "output_type": "execute_result"
    }
   ],
   "source": [
    "corr"
   ]
  },
  {
   "cell_type": "code",
   "execution_count": 82,
   "id": "c41c86e9",
   "metadata": {},
   "outputs": [
    {
     "data": {
      "text/plain": [
       "pandas.core.frame.DataFrame"
      ]
     },
     "execution_count": 82,
     "metadata": {},
     "output_type": "execute_result"
    }
   ],
   "source": [
    "type(corr)"
   ]
  },
  {
   "cell_type": "code",
   "execution_count": 27,
   "id": "28bdbbe6",
   "metadata": {},
   "outputs": [
    {
     "data": {
      "text/plain": [
       "<AxesSubplot:>"
      ]
     },
     "execution_count": 27,
     "metadata": {},
     "output_type": "execute_result"
    },
    {
     "data": {
      "image/png": "[encoded data removed]",
      "text/plain": [
       "<Figure size 576x576 with 2 Axes>"
      ]
     },
     "metadata": {
      "needs_background": "light"
     },
     "output_type": "display_data"
    }
   ],
   "source": [
    "#Constructing heatmap to understand better\n",
    "plt.figure(figsize=(8,8))\n",
    "sns.heatmap(corr  , cbar=True , square=True , fmt = '.1f' , annot = True , annot_kws={'size':8} , cmap = 'Reds')"
   ]
  },
  {
   "cell_type": "code",
   "execution_count": 31,
   "id": "caab0dc1",
   "metadata": {},
   "outputs": [
    {
     "name": "stderr",
     "output_type": "stream",
     "text": [
      "C:\\Users\\ersah\\anaconda3\\lib\\site-packages\\seaborn\\distributions.py:2619: FutureWarning: `distplot` is a deprecated function and will be removed in a future version. Please adapt your code to use either `displot` (a figure-level function with similar flexibility) or `histplot` (an axes-level function for histograms).\n",
      "  warnings.warn(msg, FutureWarning)\n"
     ]
    },
    {
     "data": {
      "text/plain": [
       "<AxesSubplot:xlabel='GLD', ylabel='Density'>"
      ]
     },
     "execution_count": 31,
     "metadata": {},
     "output_type": "execute_result"
    },
    {
     "data": {
      "image/png": "[encoded data removed]",
      "text/plain": [
       "<Figure size 432x288 with 1 Axes>"
      ]
     },
     "metadata": {
      "needs_background": "light"
     },
     "output_type": "display_data"
    }
   ],
   "source": [
    "#Checking distribution of gold price\n",
    "sns.distplot(gd['GLD'] , color='blue')"
   ]
  },
  {
   "cell_type": "markdown",
   "id": "6e979948",
   "metadata": {},
   "source": [
    "### Splitting columns"
   ]
  },
  {
   "cell_type": "code",
   "execution_count": 33,
   "id": "96b53474",
   "metadata": {},
   "outputs": [],
   "source": [
    "X = gd.drop(['Date' , 'GLD'] , axis = 1)\n",
    "Y = gd['GLD']"
   ]
  },
  {
   "cell_type": "code",
   "execution_count": 36,
   "id": "4b58c3bb",
   "metadata": {},
   "outputs": [
    {
     "data": {
      "text/html": [
       "<div>\n",
       "<style scoped>\n",
       "    .dataframe tbody tr th:only-of-type {\n",
       "        vertical-align: middle;\n",
       "    }\n",
       "\n",
       "    .dataframe tbody tr th {\n",
       "        vertical-align: top;\n",
       "    }\n",
       "\n",
       "    .dataframe thead th {\n",
       "        text-align: right;\n",
       "    }\n",
       "</style>\n",
       "<table border=\"1\" class=\"dataframe\">\n",
       "  <thead>\n",
       "    <tr style=\"text-align: right;\">\n",
       "      <th></th>\n",
       "      <th>SPX</th>\n",
       "      <th>USO</th>\n",
       "      <th>SLV</th>\n",
       "      <th>EUR/USD</th>\n",
       "    </tr>\n",
       "  </thead>\n",
       "  <tbody>\n",
       "    <tr>\n",
       "      <th>0</th>\n",
       "      <td>1447.160034</td>\n",
       "      <td>78.470001</td>\n",
       "      <td>15.1800</td>\n",
       "      <td>1.471692</td>\n",
       "    </tr>\n",
       "    <tr>\n",
       "      <th>1</th>\n",
       "      <td>1447.160034</td>\n",
       "      <td>78.370003</td>\n",
       "      <td>15.2850</td>\n",
       "      <td>1.474491</td>\n",
       "    </tr>\n",
       "    <tr>\n",
       "      <th>2</th>\n",
       "      <td>1411.630005</td>\n",
       "      <td>77.309998</td>\n",
       "      <td>15.1670</td>\n",
       "      <td>1.475492</td>\n",
       "    </tr>\n",
       "    <tr>\n",
       "      <th>3</th>\n",
       "      <td>1416.180054</td>\n",
       "      <td>75.500000</td>\n",
       "      <td>15.0530</td>\n",
       "      <td>1.468299</td>\n",
       "    </tr>\n",
       "    <tr>\n",
       "      <th>4</th>\n",
       "      <td>1390.189941</td>\n",
       "      <td>76.059998</td>\n",
       "      <td>15.5900</td>\n",
       "      <td>1.557099</td>\n",
       "    </tr>\n",
       "    <tr>\n",
       "      <th>...</th>\n",
       "      <td>...</td>\n",
       "      <td>...</td>\n",
       "      <td>...</td>\n",
       "      <td>...</td>\n",
       "    </tr>\n",
       "    <tr>\n",
       "      <th>2285</th>\n",
       "      <td>2671.919922</td>\n",
       "      <td>14.060000</td>\n",
       "      <td>15.5100</td>\n",
       "      <td>1.186789</td>\n",
       "    </tr>\n",
       "    <tr>\n",
       "      <th>2286</th>\n",
       "      <td>2697.790039</td>\n",
       "      <td>14.370000</td>\n",
       "      <td>15.5300</td>\n",
       "      <td>1.184722</td>\n",
       "    </tr>\n",
       "    <tr>\n",
       "      <th>2287</th>\n",
       "      <td>2723.070068</td>\n",
       "      <td>14.410000</td>\n",
       "      <td>15.7400</td>\n",
       "      <td>1.191753</td>\n",
       "    </tr>\n",
       "    <tr>\n",
       "      <th>2288</th>\n",
       "      <td>2730.129883</td>\n",
       "      <td>14.380000</td>\n",
       "      <td>15.5600</td>\n",
       "      <td>1.193118</td>\n",
       "    </tr>\n",
       "    <tr>\n",
       "      <th>2289</th>\n",
       "      <td>2725.780029</td>\n",
       "      <td>14.405800</td>\n",
       "      <td>15.4542</td>\n",
       "      <td>1.182033</td>\n",
       "    </tr>\n",
       "  </tbody>\n",
       "</table>\n",
       "<p>2290 rows × 4 columns</p>\n",
       "</div>"
      ],
      "text/plain": [
       "              SPX        USO      SLV   EUR/USD\n",
       "0     1447.160034  78.470001  15.1800  1.471692\n",
       "1     1447.160034  78.370003  15.2850  1.474491\n",
       "2     1411.630005  77.309998  15.1670  1.475492\n",
       "3     1416.180054  75.500000  15.0530  1.468299\n",
       "4     1390.189941  76.059998  15.5900  1.557099\n",
       "...           ...        ...      ...       ...\n",
       "2285  2671.919922  14.060000  15.5100  1.186789\n",
       "2286  2697.790039  14.370000  15.5300  1.184722\n",
       "2287  2723.070068  14.410000  15.7400  1.191753\n",
       "2288  2730.129883  14.380000  15.5600  1.193118\n",
       "2289  2725.780029  14.405800  15.4542  1.182033\n",
       "\n",
       "[2290 rows x 4 columns]"
      ]
     },
     "execution_count": 36,
     "metadata": {},
     "output_type": "execute_result"
    }
   ],
   "source": [
    "#Feature df\n",
    "X"
   ]
  },
  {
   "cell_type": "code",
   "execution_count": 37,
   "id": "29e0aeef",
   "metadata": {},
   "outputs": [
    {
     "data": {
      "text/plain": [
       "0        84.860001\n",
       "1        85.570000\n",
       "2        85.129997\n",
       "3        84.769997\n",
       "4        86.779999\n",
       "           ...    \n",
       "2285    124.589996\n",
       "2286    124.330002\n",
       "2287    125.180000\n",
       "2288    124.489998\n",
       "2289    122.543800\n",
       "Name: GLD, Length: 2290, dtype: float64"
      ]
     },
     "execution_count": 37,
     "metadata": {},
     "output_type": "execute_result"
    }
   ],
   "source": [
    "#Target\n",
    "Y"
   ]
  },
  {
   "cell_type": "markdown",
   "id": "9a62187f",
   "metadata": {},
   "source": [
    "### Model Training"
   ]
  },
  {
   "cell_type": "code",
   "execution_count": 61,
   "id": "73b6ae34",
   "metadata": {},
   "outputs": [],
   "source": [
    "X_train, X_test, Y_train , Y_test = train_test_split(X, Y, test_size= 0.2 , random_state= 4)"
   ]
  },
  {
   "cell_type": "code",
   "execution_count": 62,
   "id": "f7bd82b5",
   "metadata": {},
   "outputs": [],
   "source": [
    "regressor = RandomForestRegressor(n_estimators=100)"
   ]
  },
  {
   "cell_type": "code",
   "execution_count": 63,
   "id": "2c4f37b8",
   "metadata": {},
   "outputs": [
    {
     "data": {
      "text/plain": [
       "RandomForestRegressor()"
      ]
     },
     "execution_count": 63,
     "metadata": {},
     "output_type": "execute_result"
    }
   ],
   "source": [
    "#Training the model\n",
    "regressor.fit(X_train, Y_train)"
   ]
  },
  {
   "cell_type": "markdown",
   "id": "be3c193a",
   "metadata": {},
   "source": [
    "### Model Evaluation"
   ]
  },
  {
   "cell_type": "code",
   "execution_count": 64,
   "id": "3391e2a1",
   "metadata": {},
   "outputs": [],
   "source": [
    "y_pred = regressor.predict(X_test)"
   ]
  },
  {
   "cell_type": "code",
   "execution_count": 65,
   "id": "96fab018",
   "metadata": {},
   "outputs": [
    {
     "data": {
      "text/plain": [
       "array([154.25490047, 165.36050095, 141.37290119, 120.74820104,\n",
       "        86.20049969,  92.44429988, 120.67229906, 127.41390162,\n",
       "       114.48150036, 127.40749725, 119.00109877,  89.77789995,\n",
       "       120.4578002 , 128.63419922, 104.1244001 , 113.81100111,\n",
       "       169.56060065,  97.80019968, 109.98219949, 110.40619858,\n",
       "       166.504799  ,  85.04799833, 118.32930145, 118.44200078,\n",
       "        87.87089929, 119.04520098, 118.36120073, 113.61710187,\n",
       "       104.34670021, 108.35890022,  92.69959986, 114.7877004 ,\n",
       "        91.52969939, 153.06169923, 109.09840062, 108.89089891,\n",
       "       118.7987004 ,  72.88840216, 115.50790072, 117.56020035,\n",
       "       104.99580066,  91.26469794, 117.19690038, 153.93080332,\n",
       "       101.18189972,  74.98670014, 125.35180112, 108.69249927,\n",
       "       150.32879958, 126.7409998 , 132.52400238, 110.80689989,\n",
       "       127.32299888,  86.65949907, 149.02199973, 139.72100137,\n",
       "        92.2675993 , 125.2509995 , 125.40860009, 169.29629986,\n",
       "       153.77340214, 108.33449913, 137.15599857, 108.6010995 ,\n",
       "       151.86230194, 126.35079891, 166.11240107, 108.26419979,\n",
       "       132.19289959, 115.05000026, 117.34730017, 103.31909954,\n",
       "       103.27239996, 116.67550035, 121.77159889, 147.37880227,\n",
       "        91.19209859, 109.27190066, 119.91630094, 119.37090066,\n",
       "       162.85340068, 153.39320049, 121.02099895, 122.89650099,\n",
       "       113.07720147, 118.78759995, 120.50529954, 167.4592996 ,\n",
       "       167.27709944, 165.87220146, 159.25490131, 125.05499973,\n",
       "       161.77740019, 122.90900034, 113.10490127, 115.35579973,\n",
       "        87.07419852,  76.14690057, 121.46220063, 151.57029743,\n",
       "        76.03029831, 115.00040007, 153.29040154,  88.36670047,\n",
       "       132.00950217, 121.8768006 , 123.44479885,  93.09609983,\n",
       "       120.53730062, 125.03590182, 110.34259979, 136.22690424,\n",
       "       123.35080058, 122.29319986, 128.25500005, 127.48890035,\n",
       "       120.36439875, 170.98480002,  89.03400009, 114.27640014,\n",
       "       134.82669692, 125.41259965, 152.49709813, 155.76410108,\n",
       "       140.61589793,  92.47649935, 166.86250072, 112.57470077,\n",
       "       128.16570002, 164.49010039, 131.91440346, 107.0123998 ,\n",
       "       125.47410051, 109.05690098, 163.56200079,  87.41129871,\n",
       "       118.43200111, 109.93509952, 119.76810149,  78.25119974,\n",
       "       155.14900158, 127.39070089, 165.17990069,  87.21649857,\n",
       "       160.39519806, 141.78460091, 107.17240091, 171.44670177,\n",
       "       156.54129834,  72.52259999, 107.62270063,  87.24739823,\n",
       "       114.70429929, 117.50180033, 126.92669952, 115.61529942,\n",
       "       102.74160033, 174.60300203, 115.57460114,  91.4661006 ,\n",
       "       126.92069771,  90.54139951, 122.52109944, 162.31810251,\n",
       "       166.32040183,  88.56989992, 134.69569733, 119.25970108,\n",
       "        86.88229889,  96.73990093, 128.34579925, 172.3146007 ,\n",
       "       145.99349992, 115.72810157, 120.97529838, 119.03579937,\n",
       "       125.73390002, 122.31529981, 170.41259995, 121.85429957,\n",
       "       111.07930004, 113.47779979, 126.08240143, 122.22400023,\n",
       "       105.54860099, 117.26979886, 109.77080038, 125.82580055,\n",
       "       122.46269978, 124.64679948, 125.1028009 ,  85.80799839,\n",
       "       162.76370163, 102.72529832, 146.38989916, 127.20619982,\n",
       "       139.14700128, 112.63220108,  92.65129975, 120.30029973,\n",
       "       126.36710093,  90.13929895, 117.35329982,  73.26940113,\n",
       "       111.81429986, 106.67219992, 119.97830085, 116.01589953,\n",
       "       134.44149747, 111.53939985, 134.08669987, 128.10270088,\n",
       "       128.94149809, 121.41760078, 112.67470102, 116.52600064,\n",
       "       119.72110168, 113.46330017, 153.75480156, 105.9194985 ,\n",
       "        87.45639831, 127.00749989, 101.70000041,  93.03679911,\n",
       "        95.80840107,  86.27779818, 105.19659996, 144.92179598,\n",
       "       127.35580203, 152.72499882, 117.52600092, 160.88669759,\n",
       "       165.43640029, 147.73709983, 120.77320066, 116.15810082,\n",
       "       154.52520085,  89.39649969, 124.62509916, 132.08889952,\n",
       "        99.27469971, 115.37880029, 120.06340005, 113.73400112,\n",
       "       110.08680002, 119.44680013, 118.75360024, 146.84779721,\n",
       "       116.94760006, 108.21119917, 113.73430039, 121.21189929,\n",
       "       114.80710064, 132.15789954,  85.18999927, 107.04440104,\n",
       "        89.86880018, 102.22099922, 108.76580005, 155.45450025,\n",
       "       115.78610083, 121.32560188, 143.57859844,  88.92640031,\n",
       "       155.17150123, 160.86399837, 116.0289003 ,  78.50949991,\n",
       "       171.79280059, 160.63089997, 121.75299992, 137.06159652,\n",
       "       120.42469943, 117.54800113, 119.05830184, 163.53680045,\n",
       "        80.56120002,  89.93250039, 135.31240045, 103.05729888,\n",
       "       161.48230099, 104.78289886, 112.48370062, 125.59980046,\n",
       "       118.50539988, 107.04519969,  91.62759868, 132.59910078,\n",
       "       122.80229956, 108.46849911, 124.90640073,  93.97140034,\n",
       "       121.86420097, 166.85200165,  93.68309955,  86.70879999,\n",
       "       127.17119804, 118.61019989, 154.53160237,  89.41490057,\n",
       "       131.66060403, 146.94249939,  93.09790076, 168.6940954 ,\n",
       "       118.29739994, 120.35500085, 119.54670186,  87.18799781,\n",
       "       170.39370211, 121.19689947, 152.79120197, 107.12080065,\n",
       "        89.7824008 , 122.84649829,  93.33740033, 154.92110196,\n",
       "       165.29890132, 113.58099954, 121.95210033, 134.84749875,\n",
       "       162.65590359, 122.72129877, 130.82300325,  90.30179943,\n",
       "       112.29440056,  98.39100045, 108.90549808, 164.70819961,\n",
       "       114.93769998, 118.01569951, 139.64390159,  82.22020089,\n",
       "       118.79949998, 126.98969844, 124.67600203, 162.80120261,\n",
       "       135.93800389, 115.15799965, 117.07330041, 155.95760096,\n",
       "       120.24469952,  92.08919864, 109.74019957, 126.07009947,\n",
       "       113.68490109, 113.67900103, 108.60859953, 126.36510146,\n",
       "       121.23069909, 125.60849984, 127.45999843, 153.00970126,\n",
       "       123.5838009 , 163.1425003 ,  91.6359989 , 122.1238991 ,\n",
       "       148.11829756,  88.39160024, 124.93349877, 122.07300096,\n",
       "        96.9751997 , 122.15980037,  91.37450178, 154.02620042,\n",
       "       157.44830078, 140.20300021, 126.18919992, 152.58690033,\n",
       "        90.48660041, 161.04020095, 117.68669967, 117.62450169,\n",
       "        87.83729966, 136.17009749, 119.37380094,  91.29839904,\n",
       "       113.01220118, 160.73159941, 152.70770147, 165.61630296,\n",
       "       180.11029715, 165.24370065, 111.54250131, 152.72360075,\n",
       "       153.83490349, 151.81620242, 158.45749913, 119.91630005,\n",
       "       121.85359906, 122.09909976, 125.74339879, 136.10170206,\n",
       "       155.07489978, 129.93029948, 116.55600033, 153.15099941,\n",
       "       113.02270143, 152.82779767, 124.4534998 , 130.5186011 ,\n",
       "       154.1878996 , 138.90139788, 125.42909811,  76.14019946,\n",
       "       121.50500017, 131.82190247, 174.52310002,  81.24609906,\n",
       "        90.96050024, 126.0569009 ,  92.02639949, 126.63250148,\n",
       "       150.04479742, 112.4189014 , 166.80289947, 127.60870211,\n",
       "       134.99670046, 119.56920163, 160.76239882, 140.81769771,\n",
       "       154.72950213,  94.40740157, 170.48069899, 116.50680056,\n",
       "       115.02200006,  89.0102999 , 125.53920023, 125.88739975,\n",
       "       151.69100089,  93.56950029, 139.60089804, 126.73839988,\n",
       "       122.56649988, 122.70749961, 121.60709854, 106.84500107,\n",
       "       118.96399827, 104.30759976,  93.62919967, 114.07490053,\n",
       "        83.56459988, 166.84730083, 130.90960128, 118.04540027,\n",
       "       132.03510211, 108.99339869,  89.18200005, 107.86679854,\n",
       "       123.38100105, 135.86039895, 141.17259798,  89.4922002 ,\n",
       "       163.09520146, 122.29440072, 103.521599  , 125.2366002 ,\n",
       "        72.89620123, 170.63329971])"
      ]
     },
     "execution_count": 65,
     "metadata": {},
     "output_type": "execute_result"
    }
   ],
   "source": [
    "y_pred"
   ]
  },
  {
   "cell_type": "code",
   "execution_count": 66,
   "id": "43fea7e0",
   "metadata": {},
   "outputs": [],
   "source": [
    "#R-squared error\n",
    "r2 = metrics.r2_score(y_pred,Y_test)"
   ]
  },
  {
   "cell_type": "code",
   "execution_count": 67,
   "id": "27518b13",
   "metadata": {},
   "outputs": [
    {
     "data": {
      "text/plain": [
       "0.9899660453702956"
      ]
     },
     "execution_count": 67,
     "metadata": {},
     "output_type": "execute_result"
    }
   ],
   "source": [
    "r2"
   ]
  },
  {
   "cell_type": "code",
   "execution_count": 68,
   "id": "c078bf89",
   "metadata": {},
   "outputs": [],
   "source": [
    "# Model accuracy is 98.99%"
   ]
  },
  {
   "cell_type": "code",
   "execution_count": 69,
   "id": "91a9bc84",
   "metadata": {},
   "outputs": [
    {
     "data": {
      "text/plain": [
       "pandas.core.series.Series"
      ]
     },
     "execution_count": 69,
     "metadata": {},
     "output_type": "execute_result"
    }
   ],
   "source": [
    "type(Y_test)"
   ]
  },
  {
   "cell_type": "code",
   "execution_count": 70,
   "id": "e6751539",
   "metadata": {},
   "outputs": [
    {
     "data": {
      "text/plain": [
       "numpy.ndarray"
      ]
     },
     "execution_count": 70,
     "metadata": {},
     "output_type": "execute_result"
    }
   ],
   "source": [
    "type(y_pred)"
   ]
  },
  {
   "cell_type": "markdown",
   "id": "2308a347",
   "metadata": {},
   "source": [
    "### Comparison of actual values & predicted values"
   ]
  },
  {
   "cell_type": "code",
   "execution_count": 71,
   "id": "d88e7850",
   "metadata": {},
   "outputs": [],
   "source": [
    "Y_test =list(Y_test)"
   ]
  },
  {
   "cell_type": "code",
   "execution_count": 74,
   "id": "cbc23a64",
   "metadata": {},
   "outputs": [
    {
     "data": {
      "image/png": "[encoded data removed]",
      "text/plain": [
       "<Figure size 432x288 with 1 Axes>"
      ]
     },
     "metadata": {
      "needs_background": "light"
     },
     "output_type": "display_data"
    }
   ],
   "source": [
    "plt.plot(Y_test , color = 'blue' , label = 'Actual values' )\n",
    "plt.plot(y_pred , color = 'green' , label ='Predicted Values')\n",
    "plt.xlabel('Number of values')\n",
    "plt.ylabel('Gold Price')\n",
    "plt.legend()\n",
    "plt.show()"
   ]
  },
  {
   "cell_type": "code",
   "execution_count": null,
   "id": "e1a09e47",
   "metadata": {},
   "outputs": [],
   "source": []
  }
 ],
 "metadata": {
  "kernelspec": {
   "display_name": "Python 3 (ipykernel)",
   "language": "python",
   "name": "python3"
  },
  "language_info": {
   "codemirror_mode": {
    "name": "ipython",
    "version": 3
   },
   "file_extension": ".py",
   "mimetype": "text/x-python",
   "name": "python",
   "nbconvert_exporter": "python",
   "pygments_lexer": "ipython3",
   "version": "3.9.12"
  }
 },
 "nbformat": 4,
 "nbformat_minor": 5
}
